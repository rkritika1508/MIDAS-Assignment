{
 "cells": [
  {
   "cell_type": "code",
   "execution_count": 53,
   "metadata": {},
   "outputs": [],
   "source": [
    "import pandas as pd"
   ]
  },
  {
   "cell_type": "markdown",
   "metadata": {},
   "source": [
    "## Part 1\n",
    "\n",
    "You have to write a python script which can fetch all the tweets(as many as allowed by Twitter API) done by midas@IIITD twitter handle and dump the responses into JSONlines file."
   ]
  },
  {
   "cell_type": "markdown",
   "metadata": {},
   "source": [
    "Importing the necessary libraries i.e. tweepy (for retrieving tweets) and jsonlines (for storing the tweets information)."
   ]
  },
  {
   "cell_type": "code",
   "execution_count": 54,
   "metadata": {},
   "outputs": [],
   "source": [
    "import tweepy\n",
    "import jsonlines"
   ]
  },
  {
   "cell_type": "code",
   "execution_count": 55,
   "metadata": {},
   "outputs": [],
   "source": [
    "consumer_key = ''  \n",
    "consumer_secret = ''\n",
    "access_token = ''\n",
    "access_token_secret = ''"
   ]
  },
  {
   "cell_type": "markdown",
   "metadata": {},
   "source": [
    "Next, we import the authentication handler."
   ]
  },
  {
   "cell_type": "code",
   "execution_count": 56,
   "metadata": {},
   "outputs": [],
   "source": [
    "from tweepy import OAuthHandler"
   ]
  },
  {
   "cell_type": "markdown",
   "metadata": {},
   "source": [
    "Here, we define a function that retrieves tweets from any user by providing their screen name. We authenticate by creating an OAuthHandler instance. Next, we take an empty list tweets_data. To fetch all the tweets, we use pagination using cursor objects. We provide api.user_timeline to fetch tweets from the timeline of the user, tweet mode is taken as extended to get the full text of the tweets. The details of the fetched tweet is appended to tweets_data. The function returns the list."
   ]
  },
  {
   "cell_type": "code",
   "execution_count": 57,
   "metadata": {},
   "outputs": [],
   "source": [
    "def get_all_tweets(screen_name):\n",
    "    auth = tweepy.OAuthHandler(consumer_key, consumer_secret) #App level authorization\n",
    "    auth.set_access_token(access_token, access_token_secret) #User level authorization\n",
    "    api = tweepy.API(auth) #Move the auth variable in the API\n",
    "    tweets_data = [] #Empty lisy\n",
    "    for status in tweepy.Cursor(api.user_timeline, screen_name=screen_name, tweet_mode='extended').items(): \n",
    "        #Fetches all tweets from user's timeline\n",
    "        tweets_data.append(status) #Adds the fetched tweet to the empty list\n",
    "    return tweets_data #Returns list which contains the details of all tweets"
   ]
  },
  {
   "cell_type": "code",
   "execution_count": 58,
   "metadata": {},
   "outputs": [],
   "source": [
    "tweets_data = get_all_tweets(\"midasIIITD\")\n",
    "#Calling the function and storing the result in tweets_data list"
   ]
  },
  {
   "cell_type": "markdown",
   "metadata": {},
   "source": [
    "Now, we write all the contents of tweets_data into a jsonline file."
   ]
  },
  {
   "cell_type": "code",
   "execution_count": 60,
   "metadata": {},
   "outputs": [],
   "source": [
    "#Writes all the tweet statuses to jsonline file\n",
    "with jsonlines.open('tweets_data.jsonl', 'w') as writer:\n",
    "    for tweet in tweets_data:\n",
    "        writer.write(tweet._json)"
   ]
  },
  {
   "cell_type": "markdown",
   "metadata": {},
   "source": [
    "## Part 2\n",
    "\n",
    "The other part of your script should be able to parse these JSONline files to display the\n",
    "following for every tweet in a tabular format.\n",
    "\n",
    "● The text of the tweet.\n",
    "\n",
    "● Date and time of the tweet.\n",
    "\n",
    "● The number of favorites/likes.\n",
    "\n",
    "● The number of retweets.\n",
    "\n",
    "● Number of Images present in Tweet. If no image returns None."
   ]
  },
  {
   "cell_type": "markdown",
   "metadata": {},
   "source": [
    "We initialise an emmpty list tweet_details and read the contents of the jsonline file to the empty list."
   ]
  },
  {
   "cell_type": "code",
   "execution_count": 61,
   "metadata": {},
   "outputs": [],
   "source": [
    "#Opens the jsonline file to retrieve the stored tweet statuses\n",
    "tweet_details = []\n",
    "with jsonlines.open('tweets_data.jsonl') as reader:\n",
    "    for obj in reader:\n",
    "        tweet_details.append(obj)"
   ]
  },
  {
   "cell_type": "markdown",
   "metadata": {},
   "source": [
    "We initialise an empty dictionary required_tweet_details to store the required features of the tweet. We loop for every tweet we have collected and store the collected features in a temporary dictionary, temp_dict. We use try and except to find if the tweet has images or not. Then we add the temp_dict to required_tweet_details. "
   ]
  },
  {
   "cell_type": "code",
   "execution_count": 104,
   "metadata": {},
   "outputs": [],
   "source": [
    "required_tweet_details = {}\n",
    "count = 1\n",
    "for tweet in tweet_details:\n",
    "    temp_dict = {}\n",
    "    temp_dict['date_and_time'] = tweet['created_at'] \n",
    "    temp_dict['text'] = tweet['full_text']\n",
    "    temp_dict['no_of_favorites'] = tweet['favorite_count']\n",
    "    temp_dict['no_of_retweets'] = tweet['retweet_count']\n",
    "    try:\n",
    "        if tweet['extended_entities']:\n",
    "            temp_dict['images_in_tweet'] = len(tweet['extended_entities']['media'])\n",
    "    except:\n",
    "        temp_dict['images_in_tweet'] = None\n",
    "    required_tweet_details[count] = temp_dict\n",
    "    count += 1"
   ]
  },
  {
   "cell_type": "code",
   "execution_count": 115,
   "metadata": {},
   "outputs": [
    {
     "data": {
      "text/plain": [
       "{'date_and_time': 'Sun Apr 07 06:55:19 +0000 2019',\n",
       " 'text': 'Other queries: \"none of the Tweeter Apis give the correct count of favorites tested for most of them, all give the wrong count. same is true for retweet. this mostly happens if the no. of likes, retweet is very large. So, what shld be done?\"\\nAns: Just use the count given by API.',\n",
       " 'no_of_favorites': 3,\n",
       " 'no_of_retweets': 2,\n",
       " 'images_in_tweet': None}"
      ]
     },
     "execution_count": 115,
     "metadata": {},
     "output_type": "execute_result"
    }
   ],
   "source": [
    "required_tweet_details[1] #Example of the stored tweet details"
   ]
  },
  {
   "cell_type": "markdown",
   "metadata": {},
   "source": [
    "To present the collected data in a tabular format, we create a dataframe from required_tweet_details using pandas. We then transpose the created dataframe."
   ]
  },
  {
   "cell_type": "code",
   "execution_count": 116,
   "metadata": {},
   "outputs": [],
   "source": [
    "dfObj = pd.DataFrame(required_tweet_details)\n",
    "dfObj = dfObj.transpose()"
   ]
  },
  {
   "cell_type": "markdown",
   "metadata": {},
   "source": [
    "This is the data in the required format."
   ]
  },
  {
   "cell_type": "code",
   "execution_count": 117,
   "metadata": {},
   "outputs": [
    {
     "data": {
      "text/html": [
       "<div>\n",
       "<style scoped>\n",
       "    .dataframe tbody tr th:only-of-type {\n",
       "        vertical-align: middle;\n",
       "    }\n",
       "\n",
       "    .dataframe tbody tr th {\n",
       "        vertical-align: top;\n",
       "    }\n",
       "\n",
       "    .dataframe thead th {\n",
       "        text-align: right;\n",
       "    }\n",
       "</style>\n",
       "<table border=\"1\" class=\"dataframe\">\n",
       "  <thead>\n",
       "    <tr style=\"text-align: right;\">\n",
       "      <th></th>\n",
       "      <th>date_and_time</th>\n",
       "      <th>images_in_tweet</th>\n",
       "      <th>no_of_favorites</th>\n",
       "      <th>no_of_retweets</th>\n",
       "      <th>text</th>\n",
       "    </tr>\n",
       "  </thead>\n",
       "  <tbody>\n",
       "    <tr>\n",
       "      <th>1</th>\n",
       "      <td>Sun Apr 07 06:55:19 +0000 2019</td>\n",
       "      <td>None</td>\n",
       "      <td>3</td>\n",
       "      <td>2</td>\n",
       "      <td>Other queries: \"none of the Tweeter Apis give ...</td>\n",
       "    </tr>\n",
       "    <tr>\n",
       "      <th>2</th>\n",
       "      <td>Sun Apr 07 06:53:38 +0000 2019</td>\n",
       "      <td>None</td>\n",
       "      <td>3</td>\n",
       "      <td>1</td>\n",
       "      <td>Other queries: \"do we have to make two differe...</td>\n",
       "    </tr>\n",
       "    <tr>\n",
       "      <th>3</th>\n",
       "      <td>Sun Apr 07 05:32:27 +0000 2019</td>\n",
       "      <td>None</td>\n",
       "      <td>4</td>\n",
       "      <td>1</td>\n",
       "      <td>Other queries: \"If using Twitter api, it does ...</td>\n",
       "    </tr>\n",
       "    <tr>\n",
       "      <th>4</th>\n",
       "      <td>Sun Apr 07 05:29:40 +0000 2019</td>\n",
       "      <td>None</td>\n",
       "      <td>6</td>\n",
       "      <td>1</td>\n",
       "      <td>Response to some queries asked by students on ...</td>\n",
       "    </tr>\n",
       "    <tr>\n",
       "      <th>5</th>\n",
       "      <td>Sat Apr 06 17:11:29 +0000 2019</td>\n",
       "      <td>None</td>\n",
       "      <td>0</td>\n",
       "      <td>2</td>\n",
       "      <td>RT @kdnuggets: Top 8 #Free Must-Read #Books on...</td>\n",
       "    </tr>\n",
       "  </tbody>\n",
       "</table>\n",
       "</div>"
      ],
      "text/plain": [
       "                    date_and_time images_in_tweet no_of_favorites  \\\n",
       "1  Sun Apr 07 06:55:19 +0000 2019            None               3   \n",
       "2  Sun Apr 07 06:53:38 +0000 2019            None               3   \n",
       "3  Sun Apr 07 05:32:27 +0000 2019            None               4   \n",
       "4  Sun Apr 07 05:29:40 +0000 2019            None               6   \n",
       "5  Sat Apr 06 17:11:29 +0000 2019            None               0   \n",
       "\n",
       "  no_of_retweets                                               text  \n",
       "1              2  Other queries: \"none of the Tweeter Apis give ...  \n",
       "2              1  Other queries: \"do we have to make two differe...  \n",
       "3              1  Other queries: \"If using Twitter api, it does ...  \n",
       "4              1  Response to some queries asked by students on ...  \n",
       "5              2  RT @kdnuggets: Top 8 #Free Must-Read #Books on...  "
      ]
     },
     "execution_count": 117,
     "metadata": {},
     "output_type": "execute_result"
    }
   ],
   "source": [
    "dfObj.head()"
   ]
  }
 ],
 "metadata": {
  "kernelspec": {
   "display_name": "Python 3",
   "language": "python",
   "name": "python3"
  },
  "language_info": {
   "codemirror_mode": {
    "name": "ipython",
    "version": 3
   },
   "file_extension": ".py",
   "mimetype": "text/x-python",
   "name": "python",
   "nbconvert_exporter": "python",
   "pygments_lexer": "ipython3",
   "version": "3.7.1"
  }
 },
 "nbformat": 4,
 "nbformat_minor": 2
}
